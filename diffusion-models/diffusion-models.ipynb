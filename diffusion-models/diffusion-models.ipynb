{
 "cells": [
  {
   "metadata": {},
   "cell_type": "markdown",
   "source": "# Diffusion Models",
   "id": "4e5d2f827515e958"
  },
  {
   "metadata": {
    "ExecuteTime": {
     "end_time": "2025-04-13T02:29:47.366417Z",
     "start_time": "2025-04-13T02:29:47.290974Z"
    }
   },
   "cell_type": "code",
   "source": [
    "%load_ext autoreload\n",
    "%autoreload 2"
   ],
   "id": "3762ded994268c14",
   "outputs": [],
   "execution_count": 2
  },
  {
   "metadata": {
    "ExecuteTime": {
     "end_time": "2025-04-13T02:29:50.356204Z",
     "start_time": "2025-04-13T02:29:48.103605Z"
    }
   },
   "cell_type": "code",
   "source": [
    "import torch\n",
    "import torch.nn as nn\n",
    "import torch.optim as optim\n",
    "import numpy as np\n",
    "import matplotlib.pyplot as plt\n",
    "\n",
    "device = torch.device(\"cuda\" if torch.cuda.is_available() else \"cpu\")"
   ],
   "id": "d920789fc58d169e",
   "outputs": [],
   "execution_count": 3
  },
  {
   "cell_type": "code",
   "id": "initial_id",
   "metadata": {
    "collapsed": true,
    "ExecuteTime": {
     "end_time": "2025-04-13T02:29:51.648098Z",
     "start_time": "2025-04-13T02:29:51.533619Z"
    }
   },
   "source": [
    "def sample_gaussian_mixture(batch_size):\n",
    "    # Two Gaussians with means -2 and +2, same variance\n",
    "    means = torch.tensor([-2.0, 2.0]).to(device)\n",
    "    # Randomly choose one of the 2 components\n",
    "    idx = torch.randint(0, 2, (batch_size,))\n",
    "    chosen_mean = means[idx].unsqueeze(1)\n",
    "    # Standard deviation of 0.5\n",
    "    samples = chosen_mean + 0.5 * torch.randn(batch_size, 1).to(device)\n",
    "    return samples"
   ],
   "outputs": [],
   "execution_count": 4
  },
  {
   "metadata": {
    "ExecuteTime": {
     "end_time": "2025-04-13T02:35:50.668159Z",
     "start_time": "2025-04-13T02:35:50.533978Z"
    }
   },
   "cell_type": "code",
   "source": [
    "from DDPM import SimpleDiffusionModel\n",
    "\n",
    "T = 1000\n",
    "beta_start = 1e-4\n",
    "beta_end = 0.02\n",
    "\n",
    "betas = torch.linspace(beta_start, beta_end, T).to(device)\n",
    "alphas = 1 - betas\n",
    "alphas_cumprod = torch.cumprod(alphas, dim=0)\n",
    "\n",
    "model = SimpleDiffusionModel(T).to(device)\n",
    "optimizer = optim.Adam(model.parameters(), lr=1e-4)\n",
    "loss_fn = nn.MSELoss()\n",
    "\n",
    "num_epochs = 10000\n",
    "batch_size = 128"
   ],
   "id": "d86409584bf964b4",
   "outputs": [],
   "execution_count": 16
  },
  {
   "metadata": {
    "ExecuteTime": {
     "end_time": "2025-04-13T02:36:28.409215Z",
     "start_time": "2025-04-13T02:35:51.631056Z"
    }
   },
   "cell_type": "code",
   "source": [
    "for epoch in range(num_epochs):\n",
    "    model.train()\n",
    "    # Sample from the toy Gaussian mixture\n",
    "    x0 = sample_gaussian_mixture(batch_size)  # shape [batch, 1]\n",
    "\n",
    "    # Randomly select a diffusion time-step for each sample in the batch\n",
    "    t = torch.randint(0, T, (batch_size,), device=device)\n",
    "\n",
    "    # For each sample, get the corresponding alpha_cumprod and noise variance\n",
    "    a_cumprod_t = alphas_cumprod[t].unsqueeze(1)  # [batch, 1]\n",
    "\n",
    "    # Sample noise to add\n",
    "    noise = torch.randn_like(x0)\n",
    "\n",
    "    # The forward process: x_t = sqrt(alpha_cumprod) * x0 + sqrt(1 - alpha_cumprod) * noise\n",
    "    sqrt_a_cumprod = torch.sqrt(a_cumprod_t)\n",
    "    sqrt_one_minus_a_cumprod = torch.sqrt(1 - a_cumprod_t)\n",
    "    x_t = sqrt_a_cumprod * x0 + sqrt_one_minus_a_cumprod * noise\n",
    "\n",
    "    # The target is the noise added\n",
    "    noise_target = noise\n",
    "\n",
    "    # Predict the noise with the model conditioned on x_t and t\n",
    "    noise_pred = model(x_t, t)\n",
    "\n",
    "    loss = loss_fn(noise_pred, noise_target)\n",
    "    optimizer.zero_grad()\n",
    "    loss.backward()\n",
    "    optimizer.step()\n",
    "\n",
    "    if epoch % 500 == 0:\n",
    "        print(f\"Epoch {epoch}: Loss {loss.item():.4f}\")"
   ],
   "id": "d2b3d85a783cbd1b",
   "outputs": [
    {
     "name": "stdout",
     "output_type": "stream",
     "text": [
      "Epoch 0: Loss 0.8744\n",
      "Epoch 500: Loss 0.6637\n",
      "Epoch 1000: Loss 0.3155\n",
      "Epoch 1500: Loss 0.2710\n",
      "Epoch 2000: Loss 0.5155\n",
      "Epoch 2500: Loss 0.3159\n",
      "Epoch 3000: Loss 0.3600\n",
      "Epoch 3500: Loss 0.3150\n",
      "Epoch 4000: Loss 0.3605\n",
      "Epoch 4500: Loss 0.3026\n",
      "Epoch 5000: Loss 0.4614\n",
      "Epoch 5500: Loss 0.1843\n",
      "Epoch 6000: Loss 0.2790\n",
      "Epoch 6500: Loss 0.3216\n",
      "Epoch 7000: Loss 0.2501\n",
      "Epoch 7500: Loss 0.3015\n",
      "Epoch 8000: Loss 0.1786\n",
      "Epoch 8500: Loss 0.3134\n",
      "Epoch 9000: Loss 0.2764\n",
      "Epoch 9500: Loss 0.2929\n"
     ]
    }
   ],
   "execution_count": 17
  },
  {
   "metadata": {
    "ExecuteTime": {
     "end_time": "2025-04-13T02:36:30.568492Z",
     "start_time": "2025-04-13T02:36:30.439454Z"
    }
   },
   "cell_type": "code",
   "source": [
    "@torch.no_grad()\n",
    "def sample_ddpm_stable(model, num_samples=1000):\n",
    "    \"\"\"\n",
    "    Generate samples using the reverse diffusion process with added clamping\n",
    "    for numerical stability.\n",
    "\n",
    "    Args:\n",
    "        model: The trained diffusion model.\n",
    "        num_samples: Number of samples to generate.\n",
    "\n",
    "    Returns:\n",
    "        Tensor of generated samples.\n",
    "    \"\"\"\n",
    "    model.eval()\n",
    "    x_t = torch.randn(num_samples, 1).to(device)\n",
    "\n",
    "    for t_inv in reversed(range(T)):\n",
    "        t_val = torch.full((num_samples,), t_inv, device=device, dtype=torch.long)\n",
    "        noise_pred = model(x_t, t_val)\n",
    "\n",
    "        # Get alpha cumulative product for current timestep and clamp for safety\n",
    "        a_cumprod = alphas_cumprod[t_inv]\n",
    "        a_cumprod = torch.clamp(a_cumprod, min=1e-7, max=1.0)\n",
    "        sqrt_a_cumprod = torch.sqrt(a_cumprod)\n",
    "        sqrt_one_minus_a_cumprod = torch.sqrt(torch.clamp(1 - a_cumprod, min=1e-7))\n",
    "\n",
    "        # Estimate the original x0\n",
    "        x0_pred = (x_t - sqrt_one_minus_a_cumprod * noise_pred) / sqrt_a_cumprod\n",
    "        # Clamp x0_pred to prevent extreme values\n",
    "        x0_pred = torch.clamp(x0_pred, -10.0, 10.0)\n",
    "\n",
    "        # Update x_t based on the reverse diffusion formula\n",
    "        if t_inv > 0:\n",
    "            a_t = alphas[t_inv]\n",
    "            beta_t = betas[t_inv]\n",
    "            a_t = torch.clamp(a_t, min=1e-7, max=1.0)\n",
    "            beta_t = torch.clamp(beta_t, min=1e-7, max=1.0)\n",
    "\n",
    "            noise = torch.randn_like(x_t)\n",
    "            x_t = torch.sqrt(a_t) * x0_pred + torch.sqrt(beta_t) * noise\n",
    "        else:\n",
    "            x_t = x0_pred\n",
    "\n",
    "        # Check for any NaN values and clamp if necessary.\n",
    "        if torch.isnan(x_t).any():\n",
    "            print(f\"Warning: NaNs encountered at step {t_inv}, clamping values.\")\n",
    "            x_t = torch.clamp(x_t, -10.0, 10.0)\n",
    "\n",
    "    return x_t"
   ],
   "id": "fc6aa8e67b88f9ba",
   "outputs": [],
   "execution_count": 18
  },
  {
   "metadata": {
    "ExecuteTime": {
     "end_time": "2025-04-13T02:36:33.851212Z",
     "start_time": "2025-04-13T02:36:32.709082Z"
    }
   },
   "cell_type": "code",
   "source": [
    "# Generate samples\n",
    "samples = sample_ddpm_stable(model, num_samples=1000).cpu().numpy()\n",
    "\n",
    "# Plot a histogram of the generated samples\n",
    "plt.figure(figsize=(8, 6))\n",
    "plt.hist(samples, bins=50, density=True, alpha=0.7, label='Generated')\n",
    "plt.title(\"Generated Samples Distribution\")\n",
    "plt.xlabel(\"Value\")\n",
    "plt.ylabel(\"Density\")\n",
    "plt.legend()\n",
    "plt.show()\n",
    "\n",
    "# Also, plot the original Gaussian mixture for reference.\n",
    "# Plot PDF for mixture of two Gaussians with means -2 and +2, std=0.5 each.\n",
    "xs = np.linspace(-5, 5, 200)\n",
    "pdf = 0.5 * (1 / (0.5 * np.sqrt(2 * np.pi))) * np.exp(-0.5 * ((xs + 2) / 0.5) ** 2) + \\\n",
    "      0.5 * (1 / (0.5 * np.sqrt(2 * np.pi))) * np.exp(-0.5 * ((xs - 2) / 0.5) ** 2)\n",
    "plt.figure(figsize=(8, 6))\n",
    "plt.plot(xs, pdf, label='True Density', color='red')\n",
    "plt.hist(samples, bins=50, density=True, alpha=0.5, label='Generated Density')\n",
    "plt.title(\"Comparison of True vs. Generated Density\")\n",
    "plt.xlabel(\"Value\")\n",
    "plt.ylabel(\"Density\")\n",
    "plt.legend()\n",
    "plt.show()"
   ],
   "id": "739a5a3ba4258eec",
   "outputs": [
    {
     "data": {
      "text/plain": [
       "<Figure size 800x600 with 1 Axes>"
      ],
      "image/png": "[encoded data removed]"
     },
     "metadata": {},
     "output_type": "display_data"
    },
    {
     "data": {
      "text/plain": [
       "<Figure size 800x600 with 1 Axes>"
      ],
      "image/png": "[encoded data removed]"
     },
     "metadata": {},
     "output_type": "display_data"
    }
   ],
   "execution_count": 19
  }
 ],
 "metadata": {
  "kernelspec": {
   "display_name": "Python 3",
   "language": "python",
   "name": "python3"
  },
  "language_info": {
   "codemirror_mode": {
    "name": "ipython",
    "version": 2
   },
   "file_extension": ".py",
   "mimetype": "text/x-python",
   "name": "python",
   "nbconvert_exporter": "python",
   "pygments_lexer": "ipython2",
   "version": "2.7.6"
  }
 },
 "nbformat": 4,
 "nbformat_minor": 5
}
